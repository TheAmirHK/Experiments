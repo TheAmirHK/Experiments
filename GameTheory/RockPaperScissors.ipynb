{
  "nbformat": 4,
  "nbformat_minor": 0,
  "metadata": {
    "colab": {
      "provenance": [],
      "authorship_tag": "ABX9TyPjbE/F2/GOhRmH9DYZphgX",
      "include_colab_link": true
    },
    "kernelspec": {
      "name": "python3",
      "display_name": "Python 3"
    },
    "language_info": {
      "name": "python"
    }
  },
  "cells": [
    {
      "cell_type": "markdown",
      "metadata": {
        "id": "view-in-github",
        "colab_type": "text"
      },
      "source": [
        "<a href=\"https://colab.research.google.com/github/TheAmirHK/Experiments/blob/main/GameTheory/RockPaperScissors.ipynb\" target=\"_parent\"><img src=\"https://colab.research.google.com/assets/colab-badge.svg\" alt=\"Open In Colab\"/></a>"
      ]
    },
    {
      "cell_type": "code",
      "source": [
        "import numpy as np\n",
        "\n",
        "payoff_matrix = np.array([\n",
        "    [(0, 0), (-1, 1), (1, -1)],  # Rock\n",
        "    [(1, -1), (0, 0), (-1, 1)],  # Paper\n",
        "    [(-1, 1), (1, -1), (0, 0)]   # Scissors\n",
        "])"
      ],
      "metadata": {
        "id": "WK7UUvZnoBKb"
      },
      "execution_count": 4,
      "outputs": []
    },
    {
      "cell_type": "code",
      "source": [
        "# Action names for display\n",
        "action_names = {0: \"Rock\", 1: \"Paper\", 2: \"Scissors\"}\n",
        "\n",
        "def mixed_strategy_equilibrium():\n",
        "\n",
        "    # In Rock-Paper-Scissors, the mixed strategy equilibrium is to choose each action with equal probability\n",
        "    return [2/7, 2/7, 3/7], [2/4, 1/4, 1/4]"
      ],
      "metadata": {
        "id": "TLd-_58DoBHj"
      },
      "execution_count": 5,
      "outputs": []
    },
    {
      "cell_type": "code",
      "source": [
        "def simulate_game(num_rounds=10):\n",
        "\n",
        "    total_payoffs = {\"Player 1\": 0, \"Player 2\": 0}\n",
        "\n",
        "    # Get mixed strategy equilibrium probabilities\n",
        "    p1_strategy, p2_strategy = mixed_strategy_equilibrium()\n",
        "\n",
        "    print(f\"{'Round':<6} {'Player 1 Action':<15} {'Player 2 Action':<15} {'Player 1 Payoff':<15} {'Player 2 Payoff':<15}\")\n",
        "    print(\"-\" * 60)\n",
        "\n",
        "    for round in range(1, num_rounds + 1):\n",
        "        # Players randomly choose actions based on their mixed strategies\n",
        "        p1_action = np.random.choice([0, 1, 2], p=p1_strategy)\n",
        "        p2_action = np.random.choice([0, 1, 2], p=p2_strategy)\n",
        "\n",
        "        # Determine payoffs based on actions\n",
        "        payoff1, payoff2 = payoff_matrix[p1_action, p2_action]\n",
        "        total_payoffs[\"Player 1\"] += payoff1\n",
        "        total_payoffs[\"Player 2\"] += payoff2\n",
        "\n",
        "        # Print iteration results\n",
        "        print(f\"{round:<6} {action_names[p1_action]:<15} {action_names[p2_action]:<15} {payoff1:<15} {payoff2:<15}\")\n",
        "\n",
        "    return total_payoffs"
      ],
      "metadata": {
        "id": "WH9st6cYoBEs"
      },
      "execution_count": 6,
      "outputs": []
    },
    {
      "cell_type": "code",
      "execution_count": 7,
      "metadata": {
        "colab": {
          "base_uri": "https://localhost:8080/"
        },
        "id": "cKPxcF0gng1g",
        "outputId": "4dca2e3f-a4f4-4434-8f59-5287cdd62205"
      },
      "outputs": [
        {
          "output_type": "stream",
          "name": "stdout",
          "text": [
            "Round  Player 1 Action Player 2 Action Player 1 Payoff Player 2 Payoff\n",
            "------------------------------------------------------------\n",
            "1      Rock            Paper           -1              1              \n",
            "2      Scissors        Paper           1               -1             \n",
            "3      Scissors        Scissors        0               0              \n",
            "4      Scissors        Rock            -1              1              \n",
            "5      Paper           Scissors        -1              1              \n",
            "6      Scissors        Rock            -1              1              \n",
            "7      Scissors        Scissors        0               0              \n",
            "8      Paper           Paper           0               0              \n",
            "9      Rock            Paper           -1              1              \n",
            "10     Rock            Scissors        1               -1             \n",
            "11     Paper           Rock            1               -1             \n",
            "12     Scissors        Paper           1               -1             \n",
            "13     Scissors        Rock            -1              1              \n",
            "14     Scissors        Scissors        0               0              \n",
            "15     Scissors        Rock            -1              1              \n",
            "16     Paper           Rock            1               -1             \n",
            "17     Scissors        Rock            -1              1              \n",
            "18     Scissors        Rock            -1              1              \n",
            "19     Scissors        Rock            -1              1              \n",
            "20     Rock            Paper           -1              1              \n",
            "21     Paper           Scissors        -1              1              \n",
            "22     Scissors        Paper           1               -1             \n",
            "23     Paper           Scissors        -1              1              \n",
            "24     Scissors        Rock            -1              1              \n",
            "25     Rock            Scissors        1               -1             \n",
            "26     Paper           Rock            1               -1             \n",
            "27     Scissors        Paper           1               -1             \n",
            "28     Scissors        Scissors        0               0              \n",
            "29     Rock            Rock            0               0              \n",
            "30     Scissors        Rock            -1              1              \n",
            "31     Scissors        Scissors        0               0              \n",
            "32     Rock            Scissors        1               -1             \n",
            "33     Scissors        Paper           1               -1             \n",
            "34     Paper           Scissors        -1              1              \n",
            "35     Rock            Rock            0               0              \n",
            "36     Scissors        Scissors        0               0              \n",
            "37     Rock            Paper           -1              1              \n",
            "38     Scissors        Rock            -1              1              \n",
            "39     Paper           Rock            1               -1             \n",
            "40     Rock            Paper           -1              1              \n",
            "41     Scissors        Scissors        0               0              \n",
            "42     Scissors        Rock            -1              1              \n",
            "43     Scissors        Scissors        0               0              \n",
            "44     Rock            Paper           -1              1              \n",
            "45     Scissors        Scissors        0               0              \n",
            "46     Paper           Rock            1               -1             \n",
            "47     Rock            Rock            0               0              \n",
            "48     Rock            Paper           -1              1              \n",
            "49     Scissors        Rock            -1              1              \n",
            "50     Scissors        Paper           1               -1             \n",
            "51     Rock            Paper           -1              1              \n",
            "52     Rock            Rock            0               0              \n",
            "53     Rock            Scissors        1               -1             \n",
            "54     Scissors        Rock            -1              1              \n",
            "55     Rock            Rock            0               0              \n",
            "56     Paper           Rock            1               -1             \n",
            "57     Scissors        Scissors        0               0              \n",
            "58     Rock            Paper           -1              1              \n",
            "59     Rock            Paper           -1              1              \n",
            "60     Scissors        Rock            -1              1              \n",
            "61     Scissors        Scissors        0               0              \n",
            "62     Scissors        Scissors        0               0              \n",
            "63     Paper           Paper           0               0              \n",
            "64     Scissors        Rock            -1              1              \n",
            "65     Paper           Rock            1               -1             \n",
            "66     Scissors        Rock            -1              1              \n",
            "67     Paper           Rock            1               -1             \n",
            "68     Scissors        Paper           1               -1             \n",
            "69     Paper           Rock            1               -1             \n",
            "70     Scissors        Scissors        0               0              \n",
            "71     Rock            Rock            0               0              \n",
            "72     Scissors        Rock            -1              1              \n",
            "73     Rock            Rock            0               0              \n",
            "74     Paper           Rock            1               -1             \n",
            "75     Scissors        Paper           1               -1             \n",
            "76     Paper           Scissors        -1              1              \n",
            "77     Scissors        Paper           1               -1             \n",
            "78     Rock            Rock            0               0              \n",
            "79     Rock            Rock            0               0              \n",
            "80     Rock            Rock            0               0              \n",
            "81     Rock            Rock            0               0              \n",
            "82     Scissors        Rock            -1              1              \n",
            "83     Rock            Scissors        1               -1             \n",
            "84     Rock            Rock            0               0              \n",
            "85     Scissors        Paper           1               -1             \n",
            "86     Paper           Scissors        -1              1              \n",
            "87     Scissors        Paper           1               -1             \n",
            "88     Paper           Scissors        -1              1              \n",
            "89     Scissors        Rock            -1              1              \n",
            "90     Paper           Rock            1               -1             \n",
            "91     Paper           Rock            1               -1             \n",
            "92     Paper           Scissors        -1              1              \n",
            "93     Scissors        Scissors        0               0              \n",
            "94     Rock            Rock            0               0              \n",
            "95     Paper           Scissors        -1              1              \n",
            "96     Paper           Rock            1               -1             \n",
            "97     Scissors        Rock            -1              1              \n",
            "98     Paper           Scissors        -1              1              \n",
            "99     Scissors        Paper           1               -1             \n",
            "100    Rock            Paper           -1              1              \n",
            "\n",
            "Final Payoffs:\n",
            "Player 1 Total Payoff: -11\n",
            "Player 2 Total Payoff: 11\n"
          ]
        }
      ],
      "source": [
        "if __name__ == \"__main__\":\n",
        "    # Simulate the game\n",
        "    num_rounds = 100  # Number of rounds to simulate\n",
        "    payoffs = simulate_game(num_rounds)\n",
        "\n",
        "    # Print final results\n",
        "    print(\"\\nFinal Payoffs:\")\n",
        "    print(f\"Player 1 Total Payoff: {payoffs['Player 1']}\")\n",
        "    print(f\"Player 2 Total Payoff: {payoffs['Player 2']}\")"
      ]
    }
  ]
}