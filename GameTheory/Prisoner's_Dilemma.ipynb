{
  "nbformat": 4,
  "nbformat_minor": 0,
  "metadata": {
    "colab": {
      "provenance": [],
      "authorship_tag": "ABX9TyPPd97albbsBsYAIiiVJGHt",
      "include_colab_link": true
    },
    "kernelspec": {
      "name": "python3",
      "display_name": "Python 3"
    },
    "language_info": {
      "name": "python"
    }
  },
  "cells": [
    {
      "cell_type": "markdown",
      "metadata": {
        "id": "view-in-github",
        "colab_type": "text"
      },
      "source": [
        "<a href=\"https://colab.research.google.com/github/TheAmirHK/Experiments/blob/main/GameTheory/Prisoner's_Dilemma.ipynb\" target=\"_parent\"><img src=\"https://colab.research.google.com/assets/colab-badge.svg\" alt=\"Open In Colab\"/></a>"
      ]
    },
    {
      "cell_type": "code",
      "source": [
        "import numpy as np\n",
        "from tabulate import tabulate\n",
        "\n",
        "# Payoff matrix for the Prisoner's Dilemma\n",
        "payoff_matrix = np.array([\n",
        "    [(3, 3), (0, 4)],  # Player 1 Cooperates\n",
        "    [(4, 0), (1, 1)]   # Player 1 Defects\n",
        "])"
      ],
      "metadata": {
        "id": "k5_FbbU1aNwI"
      },
      "execution_count": null,
      "outputs": []
    },
    {
      "cell_type": "code",
      "source": [
        "def play_game(player1_action, player2_action):\n",
        "    \"\"\"\n",
        "    Simulates a single round of the Prisoner's Dilemma.\n",
        "    Args:\n",
        "        player1_action (int): 0 (Cooperate) or 1 (Defect)\n",
        "        player2_action (int): 0 (Cooperate) or 1 (Defect)\n",
        "    Returns:\n",
        "        tuple: Payoffs for Player 1 and Player 2\n",
        "    \"\"\"\n",
        "    return payoff_matrix[player1_action, player2_action]"
      ],
      "metadata": {
        "id": "4EsIdToQaNpZ"
      },
      "execution_count": null,
      "outputs": []
    },
    {
      "cell_type": "code",
      "source": [
        "def nash_equilibrium():\n",
        "    \"\"\"\n",
        "    Finds the Nash Equilibrium of the Prisoner's Dilemma.\n",
        "    Returns:\n",
        "        tuple: Nash Equilibrium strategies for Player 1 and Player 2\n",
        "    \"\"\"\n",
        "    # In the Prisoner's Dilemma, the Nash Equilibrium is (Defect, Defect)\n",
        "    return 1, 1"
      ],
      "metadata": {
        "id": "JGIoNIxKaNha"
      },
      "execution_count": null,
      "outputs": []
    },
    {
      "cell_type": "code",
      "source": [
        "def simulate_game(strategy1, strategy2, num_rounds=100):\n",
        "    \"\"\"\n",
        "    Simulates multiple rounds of the Prisoner's Dilemma.\n",
        "    Args:\n",
        "        strategy1 (function): Strategy function for Player 1\n",
        "        strategy2 (function): Strategy function for Player 2\n",
        "        num_rounds (int): Number of rounds to simulate\n",
        "    Returns:\n",
        "        tuple: Total payoffs for Player 1 and Player 2\n",
        "    \"\"\"\n",
        "    total_payoffs = [0, 0]  # Total payoffs for Player 1 and Player 2\n",
        "    history1, history2 = [], []  # History of actions for each player\n",
        "\n",
        "    for _ in range(num_rounds):\n",
        "        action1 = strategy1(history2)  # Player 1 chooses action based on Player 2's history\n",
        "        action2 = strategy2(history1)  # Player 2 chooses action based on Player 1's history\n",
        "\n",
        "        payoff1, payoff2 = play_game(action1, action2)\n",
        "        total_payoffs[0] += payoff1\n",
        "        total_payoffs[1] += payoff2\n",
        "\n",
        "        history1.append(action1)\n",
        "        history2.append(action2)\n",
        "\n",
        "    return tuple(total_payoffs)"
      ],
      "metadata": {
        "id": "bLvKzEkMaTzI"
      },
      "execution_count": null,
      "outputs": []
    },
    {
      "cell_type": "code",
      "source": [
        "# Example strategies\n",
        "def always_cooperate(opponent_history):\n",
        "    \"\"\"Always cooperates.\"\"\"\n",
        "    return 0\n",
        "\n",
        "def always_defect(opponent_history):\n",
        "    \"\"\"Always defects.\"\"\"\n",
        "    return 1\n",
        "\n",
        "def tit_for_tat(opponent_history):\n",
        "    \"\"\"Cooperates on the first move, then mimics the opponent's last move.\"\"\"\n",
        "    if not opponent_history:\n",
        "        return 0\n",
        "    return opponent_history[-1]"
      ],
      "metadata": {
        "id": "P6neSOrzaVno"
      },
      "execution_count": null,
      "outputs": []
    },
    {
      "cell_type": "code",
      "execution_count": 2,
      "metadata": {
        "colab": {
          "base_uri": "https://localhost:8080/"
        },
        "id": "wFaAAm1GWtc0",
        "outputId": "9d4ebc83-ec42-4190-b521-a69f4e7a709d"
      },
      "outputs": [
        {
          "output_type": "stream",
          "name": "stdout",
          "text": [
            "Nash Equilibrium Strategies: Player 1 = 1, Player 2 = 1\n",
            "\n",
            "Simulating games...\n",
            "+---------------------+---------------------+-------------------+-------------------+\n",
            "| Player 1 Strategy   | Player 2 Strategy   |   Player 1 Payoff |   Player 2 Payoff |\n",
            "+=====================+=====================+===================+===================+\n",
            "| Always Cooperate    | Always Cooperate    |               300 |               300 |\n",
            "+---------------------+---------------------+-------------------+-------------------+\n",
            "| Always Cooperate    | Always Defect       |                 0 |               400 |\n",
            "+---------------------+---------------------+-------------------+-------------------+\n",
            "| Always Cooperate    | Tit for Tat         |               300 |               300 |\n",
            "+---------------------+---------------------+-------------------+-------------------+\n",
            "| Always Defect       | Always Cooperate    |               400 |                 0 |\n",
            "+---------------------+---------------------+-------------------+-------------------+\n",
            "| Always Defect       | Always Defect       |               100 |               100 |\n",
            "+---------------------+---------------------+-------------------+-------------------+\n",
            "| Always Defect       | Tit for Tat         |               103 |                99 |\n",
            "+---------------------+---------------------+-------------------+-------------------+\n",
            "| Tit for Tat         | Always Cooperate    |               300 |               300 |\n",
            "+---------------------+---------------------+-------------------+-------------------+\n",
            "| Tit for Tat         | Always Defect       |                99 |               103 |\n",
            "+---------------------+---------------------+-------------------+-------------------+\n",
            "| Tit for Tat         | Tit for Tat         |               300 |               300 |\n",
            "+---------------------+---------------------+-------------------+-------------------+\n"
          ]
        }
      ],
      "source": [
        "# Simulate the game with different strategies\n",
        "if __name__ == \"__main__\":\n",
        "    # Nash Equilibrium strategies\n",
        "    ne_strategy1, ne_strategy2 = nash_equilibrium()\n",
        "    print(f\"Nash Equilibrium Strategies: Player 1 = {ne_strategy1}, Player 2 = {ne_strategy2}\")\n",
        "\n",
        "    # Simulate games with different strategies\n",
        "    print(\"\\nSimulating games...\")\n",
        "    strategies = [\n",
        "        (\"Always Cooperate\", always_cooperate),\n",
        "        (\"Always Defect\", always_defect),\n",
        "        (\"Tit for Tat\", tit_for_tat)\n",
        "    ]\n",
        "\n",
        "    # Prepare table data\n",
        "    table = []\n",
        "    headers = [\"Player 1 Strategy\", \"Player 2 Strategy\", \"Player 1 Payoff\", \"Player 2 Payoff\"]\n",
        "\n",
        "    for name1, strategy1 in strategies:\n",
        "        for name2, strategy2 in strategies:\n",
        "            payoff1, payoff2 = simulate_game(strategy1, strategy2, num_rounds=100)\n",
        "            table.append([name1, name2, payoff1, payoff2])\n",
        "\n",
        "    # Print the table\n",
        "    print(tabulate(table, headers=headers, tablefmt=\"grid\"))"
      ]
    }
  ]
}