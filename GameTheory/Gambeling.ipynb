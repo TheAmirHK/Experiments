{
  "nbformat": 4,
  "nbformat_minor": 0,
  "metadata": {
    "colab": {
      "provenance": [],
      "authorship_tag": "ABX9TyNBsFTQyMeZTBlcOTP0r2s2",
      "include_colab_link": true
    },
    "kernelspec": {
      "name": "python3",
      "display_name": "Python 3"
    },
    "language_info": {
      "name": "python"
    }
  },
  "cells": [
    {
      "cell_type": "markdown",
      "metadata": {
        "id": "view-in-github",
        "colab_type": "text"
      },
      "source": [
        "<a href=\"https://colab.research.google.com/github/TheAmirHK/Experiments/blob/main/GameTheory/Gambeling.ipynb\" target=\"_parent\"><img src=\"https://colab.research.google.com/assets/colab-badge.svg\" alt=\"Open In Colab\"/></a>"
      ]
    },
    {
      "cell_type": "code",
      "source": [
        "import numpy as np\n",
        "\n",
        "# Card values\n",
        "LOW, MEDIUM, HIGH = 1, 2, 3\n",
        "CARDS = [LOW, MEDIUM, HIGH]\n",
        "\n",
        "payoff_matrix = {\n",
        "    LOW: {\n",
        "        \"Bet\": {\"Bet\": -5, \"Fold\": 10},  # If both bet, Player 1 loses 5; if Player 1 bets and Player 2 folds, Player 1 wins 10\n",
        "        \"Fold\": {\"Bet\": -5, \"Fold\": 0}   # If Player 1 folds and Player 2 bets, Player 1 loses 5; if both fold, payoff is 0\n",
        "    },\n",
        "    MEDIUM: {\n",
        "        \"Bet\": {\"Bet\": 0, \"Fold\": 10},   # If both bet, it's a tie; if Player 1 bets and Player 2 folds, Player 1 wins 10\n",
        "        \"Fold\": {\"Bet\": -5, \"Fold\": 0}\n",
        "    },\n",
        "    HIGH: {\n",
        "        \"Bet\": {\"Bet\": 5, \"Fold\": 10},   # If both bet, Player 1 wins 5; if Player 1 bets and Player 2 folds, Player 1 wins 10\n",
        "        \"Fold\": {\"Bet\": -5, \"Fold\": 0}\n",
        "    }\n",
        "}"
      ],
      "metadata": {
        "id": "cXImpYYdajTC"
      },
      "execution_count": 15,
      "outputs": []
    },
    {
      "cell_type": "code",
      "source": [
        "def nash_equilibrium_strategy(card):\n",
        "\n",
        "    if card == LOW:\n",
        "        return \"Fold\"  # With a low card, folding is the best response\n",
        "    elif card == MEDIUM:\n",
        "        return \"Bet\"   # With a medium card, betting is the best response\n",
        "    elif card == HIGH:\n",
        "        return \"Bet\"   # With a high card, betting is the best response"
      ],
      "metadata": {
        "id": "WA10LWbOajP_"
      },
      "execution_count": 16,
      "outputs": []
    },
    {
      "cell_type": "code",
      "source": [
        "def mixed_strategy_equilibrium(card):\n",
        "\n",
        "    if card == LOW:\n",
        "        return 0.2, 0.8  # Bet with 20% probability, Fold with 80% probability\n",
        "    elif card == MEDIUM:\n",
        "        return 0.6, 0.4  # Bet with 60% probability, Fold with 40% probability\n",
        "    elif card == HIGH:\n",
        "        return 0.9, 0.1  # Bet with 90% probability, Fold with 10% probability"
      ],
      "metadata": {
        "id": "jCmNvzTyajM5"
      },
      "execution_count": 17,
      "outputs": []
    },
    {
      "cell_type": "code",
      "execution_count": 18,
      "metadata": {
        "id": "P9ab9-pwZb6Q"
      },
      "outputs": [],
      "source": [
        "def simulate_game(num_rounds=1000):\n",
        "\n",
        "    total_payoffs = {\"Player 1\": 0, \"Player 2\": 0}\n",
        "\n",
        "    print(f\"{'Round':<6} {'Player 1 Card':<15} {'Player 1 Action':<15} {'Player 2 Card':<15} {'Player 2 Action':<15} {'Player 1 Payoff':<15} {'Player 2 Payoff':<15}\")\n",
        "    print(\"-\" * 90)\n",
        "\n",
        "    for round in range(1, num_rounds + 1):\n",
        "        # Deal cards to players\n",
        "        player1_card = np.random.choice(CARDS)\n",
        "        player2_card = np.random.choice(CARDS)\n",
        "\n",
        "        # Players choose actions based on their strategies\n",
        "        if np.random.rand() < mixed_strategy_equilibrium(player1_card)[0]:\n",
        "            player1_action = \"Bet\"\n",
        "        else:\n",
        "            player1_action = \"Fold\"\n",
        "\n",
        "        if np.random.rand() < mixed_strategy_equilibrium(player2_card)[0]:\n",
        "            player2_action = \"Bet\"\n",
        "        else:\n",
        "            player2_action = \"Fold\"\n",
        "\n",
        "        # Determine payoffs based on actions and cards\n",
        "        if player1_action == \"Bet\" and player2_action == \"Bet\":\n",
        "            if player1_card > player2_card:\n",
        "                payoff1, payoff2 = 5, -5\n",
        "            elif player1_card < player2_card:\n",
        "                payoff1, payoff2 = -5, 5\n",
        "            else:\n",
        "                payoff1, payoff2 = 0, 0  # Tie\n",
        "        elif player1_action == \"Bet\" and player2_action == \"Fold\":\n",
        "            payoff1, payoff2 = 10, -10\n",
        "        elif player1_action == \"Fold\" and player2_action == \"Bet\":\n",
        "            payoff1, payoff2 = -10, 10\n",
        "        else:\n",
        "            payoff1, payoff2 = 0, 0  # Both fold\n",
        "\n",
        "        # Update total payoffs\n",
        "        total_payoffs[\"Player 1\"] += payoff1\n",
        "        total_payoffs[\"Player 2\"] += payoff2\n",
        "\n",
        "        # Print iteration results\n",
        "        print(f\"{round:<6} {player1_card:<15} {player1_action:<15} {player2_card:<15} {player2_action:<15} {payoff1:<15} {payoff2:<15}\")\n",
        "\n",
        "    return total_payoffs"
      ]
    },
    {
      "cell_type": "code",
      "source": [
        "if __name__ == \"__main__\":\n",
        "    # Simulate the game\n",
        "    num_rounds = 100  # Reduced number of rounds for demonstration\n",
        "    payoffs = simulate_game(num_rounds)\n",
        "\n",
        "    # Print final results\n",
        "    print(\"\\nFinal Payoffs:\")\n",
        "    print(f\"Player 1 Total Payoff: {payoffs['Player 1']}\")\n",
        "    print(f\"Player 2 Total Payoff: {payoffs['Player 2']}\")"
      ],
      "metadata": {
        "colab": {
          "base_uri": "https://localhost:8080/"
        },
        "id": "F7wrOOYAhCNT",
        "outputId": "432e0680-2530-4475-c516-da0c3c362c6a"
      },
      "execution_count": 19,
      "outputs": [
        {
          "output_type": "stream",
          "name": "stdout",
          "text": [
            "Round  Player 1 Card   Player 1 Action Player 2 Card   Player 2 Action Player 1 Payoff Player 2 Payoff\n",
            "------------------------------------------------------------------------------------------\n",
            "1      2               Bet             3               Bet             -5              5              \n",
            "2      3               Bet             1               Bet             5               -5             \n",
            "3      2               Fold            1               Fold            0               0              \n",
            "4      3               Bet             1               Bet             5               -5             \n",
            "5      1               Fold            2               Bet             -10             10             \n",
            "6      3               Bet             2               Bet             5               -5             \n",
            "7      3               Bet             3               Bet             0               0              \n",
            "8      2               Bet             2               Bet             0               0              \n",
            "9      1               Bet             1               Fold            10              -10            \n",
            "10     2               Bet             2               Bet             0               0              \n",
            "11     1               Fold            1               Fold            0               0              \n",
            "12     3               Bet             2               Bet             5               -5             \n",
            "13     1               Fold            1               Bet             -10             10             \n",
            "14     2               Fold            3               Bet             -10             10             \n",
            "15     1               Fold            1               Fold            0               0              \n",
            "16     3               Bet             2               Bet             5               -5             \n",
            "17     2               Bet             3               Bet             -5              5              \n",
            "18     2               Bet             2               Bet             0               0              \n",
            "19     3               Bet             1               Fold            10              -10            \n",
            "20     2               Bet             3               Bet             -5              5              \n",
            "21     2               Bet             2               Fold            10              -10            \n",
            "22     3               Bet             3               Bet             0               0              \n",
            "23     2               Bet             1               Fold            10              -10            \n",
            "24     1               Fold            3               Bet             -10             10             \n",
            "25     3               Bet             3               Bet             0               0              \n",
            "26     1               Fold            2               Bet             -10             10             \n",
            "27     3               Bet             1               Fold            10              -10            \n",
            "28     2               Fold            2               Fold            0               0              \n",
            "29     2               Fold            1               Fold            0               0              \n",
            "30     1               Fold            3               Fold            0               0              \n",
            "31     3               Bet             3               Fold            10              -10            \n",
            "32     1               Fold            3               Bet             -10             10             \n",
            "33     1               Fold            2               Bet             -10             10             \n",
            "34     2               Bet             3               Bet             -5              5              \n",
            "35     1               Bet             2               Fold            10              -10            \n",
            "36     3               Bet             1               Fold            10              -10            \n",
            "37     2               Bet             2               Fold            10              -10            \n",
            "38     1               Fold            2               Bet             -10             10             \n",
            "39     3               Bet             1               Bet             5               -5             \n",
            "40     3               Bet             3               Bet             0               0              \n",
            "41     1               Fold            2               Bet             -10             10             \n",
            "42     2               Bet             1               Fold            10              -10            \n",
            "43     3               Bet             1               Fold            10              -10            \n",
            "44     2               Bet             3               Bet             -5              5              \n",
            "45     1               Bet             1               Fold            10              -10            \n",
            "46     3               Bet             2               Bet             5               -5             \n",
            "47     1               Fold            3               Bet             -10             10             \n",
            "48     3               Bet             2               Fold            10              -10            \n",
            "49     2               Bet             1               Fold            10              -10            \n",
            "50     2               Fold            1               Fold            0               0              \n",
            "51     2               Bet             3               Bet             -5              5              \n",
            "52     3               Bet             1               Bet             5               -5             \n",
            "53     2               Bet             3               Bet             -5              5              \n",
            "54     2               Bet             2               Fold            10              -10            \n",
            "55     3               Bet             1               Fold            10              -10            \n",
            "56     1               Bet             1               Fold            10              -10            \n",
            "57     2               Bet             2               Fold            10              -10            \n",
            "58     3               Bet             3               Bet             0               0              \n",
            "59     2               Bet             3               Bet             -5              5              \n",
            "60     1               Fold            1               Fold            0               0              \n",
            "61     3               Fold            2               Fold            0               0              \n",
            "62     1               Fold            2               Bet             -10             10             \n",
            "63     1               Fold            3               Bet             -10             10             \n",
            "64     3               Bet             3               Bet             0               0              \n",
            "65     2               Bet             2               Bet             0               0              \n",
            "66     2               Bet             1               Bet             5               -5             \n",
            "67     1               Bet             2               Fold            10              -10            \n",
            "68     3               Bet             1               Fold            10              -10            \n",
            "69     1               Fold            1               Bet             -10             10             \n",
            "70     1               Fold            1               Fold            0               0              \n",
            "71     1               Fold            1               Fold            0               0              \n",
            "72     3               Bet             2               Fold            10              -10            \n",
            "73     3               Bet             3               Bet             0               0              \n",
            "74     2               Fold            1               Bet             -10             10             \n",
            "75     3               Bet             3               Bet             0               0              \n",
            "76     2               Bet             3               Bet             -5              5              \n",
            "77     3               Bet             3               Bet             0               0              \n",
            "78     1               Fold            1               Fold            0               0              \n",
            "79     2               Bet             2               Fold            10              -10            \n",
            "80     1               Fold            2               Bet             -10             10             \n",
            "81     1               Fold            1               Bet             -10             10             \n",
            "82     3               Bet             2               Bet             5               -5             \n",
            "83     2               Bet             1               Fold            10              -10            \n",
            "84     2               Bet             2               Fold            10              -10            \n",
            "85     2               Bet             1               Fold            10              -10            \n",
            "86     3               Bet             3               Bet             0               0              \n",
            "87     3               Bet             1               Bet             5               -5             \n",
            "88     3               Bet             3               Bet             0               0              \n",
            "89     1               Bet             2               Bet             -5              5              \n",
            "90     2               Bet             3               Bet             -5              5              \n",
            "91     1               Fold            1               Fold            0               0              \n",
            "92     1               Bet             2               Bet             -5              5              \n",
            "93     2               Fold            2               Fold            0               0              \n",
            "94     3               Fold            1               Fold            0               0              \n",
            "95     1               Fold            3               Bet             -10             10             \n",
            "96     1               Fold            1               Fold            0               0              \n",
            "97     1               Fold            2               Fold            0               0              \n",
            "98     2               Bet             2               Fold            10              -10            \n",
            "99     1               Fold            3               Bet             -10             10             \n",
            "100    1               Fold            3               Bet             -10             10             \n",
            "\n",
            "Final Payoffs:\n",
            "Player 1 Total Payoff: 65\n",
            "Player 2 Total Payoff: -65\n"
          ]
        }
      ]
    }
  ]
}