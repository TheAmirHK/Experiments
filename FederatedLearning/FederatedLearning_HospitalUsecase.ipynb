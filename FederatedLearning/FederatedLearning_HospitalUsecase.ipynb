{
  "nbformat": 4,
  "nbformat_minor": 0,
  "metadata": {
    "colab": {
      "provenance": [],
      "authorship_tag": "ABX9TyOyqhi211U+gguNHU+gI3/O",
      "include_colab_link": true
    },
    "kernelspec": {
      "name": "python3",
      "display_name": "Python 3"
    },
    "language_info": {
      "name": "python"
    }
  },
  "cells": [
    {
      "cell_type": "markdown",
      "metadata": {
        "id": "view-in-github",
        "colab_type": "text"
      },
      "source": [
        "<a href=\"https://colab.research.google.com/github/TheAmirHK/Experiments/blob/main/FederatedLearning/FederatedLearning_HospitalUsecase.ipynb\" target=\"_parent\"><img src=\"https://colab.research.google.com/assets/colab-badge.svg\" alt=\"Open In Colab\"/></a>"
      ]
    },
    {
      "cell_type": "code",
      "execution_count": 1,
      "metadata": {
        "id": "0gxU5IOAw2bR"
      },
      "outputs": [],
      "source": [
        "import torch\n",
        "import torch.nn as nn\n",
        "import torch.optim as optim\n",
        "from torch.utils.data import DataLoader, TensorDataset\n",
        "import numpy as np"
      ]
    },
    {
      "cell_type": "code",
      "source": [
        "# Here I asked ChatGPT to simulate random data. The data can be replaced by real data in this part !i!i\n",
        "\n",
        "# Simulate healthcare datasets for 5 hospitals\n",
        "def generate_data(num_samples):\n",
        "    # Features: age, BMI, blood pressure, cholesterol levels, glucose levels\n",
        "    X = np.random.rand(num_samples, 5) * 100  # Random values between 0 and 100\n",
        "    # Labels: 1 for readmission, 0 for no readmission\n",
        "    y = (X[:, 0] * 0.3 + X[:, 1] * 0.2 + X[:, 2] * 0.1 > 50).astype(int)\n",
        "    return X, y\n",
        "\n",
        "# Create datasets for 5 hospitals\n",
        "hospital_data = [generate_data(1000) for _ in range(5)]"
      ],
      "metadata": {
        "id": "wYUkUhPzxIz6"
      },
      "execution_count": 17,
      "outputs": []
    },
    {
      "cell_type": "code",
      "source": [
        "# Convert datasets to PyTorch DataLoader objects\n",
        "def create_dataloader(X, y, batch_size=32):\n",
        "    tensor_X = torch.FloatTensor(X)\n",
        "    tensor_y = torch.LongTensor(y)\n",
        "    dataset = TensorDataset(tensor_X, tensor_y)\n",
        "    return DataLoader(dataset, batch_size=batch_size, shuffle=True)\n",
        "\n",
        "hospital_loaders = [create_dataloader(X, y) for X, y in hospital_data]"
      ],
      "metadata": {
        "id": "OjfJpRHryFDj"
      },
      "execution_count": 18,
      "outputs": []
    },
    {
      "cell_type": "code",
      "source": [
        "class SimpleNN(nn.Module):\n",
        "    def __init__(self, input_dim):\n",
        "        super(SimpleNN, self).__init__()\n",
        "        self.fc = nn.Sequential(\n",
        "            nn.Linear(input_dim, 32),\n",
        "            nn.ReLU(),\n",
        "            nn.Linear(32, 16),\n",
        "            nn.ReLU(),\n",
        "            nn.Linear(16, 2)\n",
        "        )\n",
        "\n",
        "    def forward(self, x):\n",
        "        return self.fc(x)"
      ],
      "metadata": {
        "id": "TAVuLdtHxLR6"
      },
      "execution_count": 19,
      "outputs": []
    },
    {
      "cell_type": "code",
      "source": [
        "def train_local_model(model, dataloader, criterion, optimizer, epochs=5):\n",
        "    model.train()\n",
        "    for epoch in range(epochs):\n",
        "        for inputs, labels in dataloader:\n",
        "            optimizer.zero_grad()\n",
        "            outputs = model(inputs)\n",
        "            loss = criterion(outputs, labels)\n",
        "            loss.backward()\n",
        "            optimizer.step()\n",
        "    return model"
      ],
      "metadata": {
        "id": "KkZ90hUXxOOB"
      },
      "execution_count": 20,
      "outputs": []
    },
    {
      "cell_type": "code",
      "source": [
        "def federated_learning(hospital_loaders, global_model, rounds=15, local_epochs=5):\n",
        "    criterion = nn.CrossEntropyLoss()\n",
        "    global_optimizer = optim.SGD(global_model.parameters(), lr=0.01)\n",
        "\n",
        "    for round in range(rounds):\n",
        "        print(f\"Round {round + 1}/{rounds}\")\n",
        "        local_weights = []\n",
        "\n",
        "        # local training\n",
        "        for dataloader in hospital_loaders:\n",
        "            local_model = SimpleNN(input_dim=5)\n",
        "            local_model.load_state_dict(global_model.state_dict())\n",
        "            local_optimizer = optim.SGD(local_model.parameters(), lr=0.001)\n",
        "\n",
        "            trained_model = train_local_model(local_model, dataloader, criterion, local_optimizer, epochs=local_epochs)\n",
        "            local_weights.append(trained_model.state_dict())\n",
        "\n",
        "        # Aggregate weights to be mitigated into the global model !\n",
        "        new_weights = {key: torch.stack([weights[key] for weights in local_weights], dim=0).mean(dim=0)\n",
        "                       for key in local_weights[0].keys()}\n",
        "\n",
        "        # Update global model\n",
        "        global_model.load_state_dict(new_weights)\n",
        "\n",
        "    return global_model"
      ],
      "metadata": {
        "id": "i_PHHGfpxQOp"
      },
      "execution_count": 21,
      "outputs": []
    },
    {
      "cell_type": "code",
      "source": [
        "def evaluate_model(model, dataloader):\n",
        "    model.eval()\n",
        "    correct, total = 0, 0\n",
        "    with torch.no_grad():\n",
        "        for inputs, labels in dataloader:\n",
        "            outputs = model(inputs)\n",
        "            _, predicted = torch.max(outputs, 1)\n",
        "            total += labels.size(0)\n",
        "            correct += (predicted == labels).sum().item()\n",
        "    return correct / total\n",
        "\n",
        "X_test, y_test = generate_data(500)\n",
        "test_loader = create_dataloader(X_test, y_test)\n",
        "\n",
        "global_model = SimpleNN(input_dim=5)\n",
        "\n",
        "trained_global_model = federated_learning(hospital_loaders, global_model, rounds=10, local_epochs=5)\n",
        "\n",
        "accuracy = evaluate_model(trained_global_model, test_loader)\n",
        "print(f\"Global Model Accuracy: {accuracy * 100:.2f}%\")"
      ],
      "metadata": {
        "colab": {
          "base_uri": "https://localhost:8080/"
        },
        "id": "DFt3AvObxR4L",
        "outputId": "24de6c6a-75be-447b-bef1-318c62f7c4c2"
      },
      "execution_count": 22,
      "outputs": [
        {
          "output_type": "stream",
          "name": "stdout",
          "text": [
            "Round 1/10\n",
            "Round 2/10\n",
            "Round 3/10\n",
            "Round 4/10\n",
            "Round 5/10\n",
            "Round 6/10\n",
            "Round 7/10\n",
            "Round 8/10\n",
            "Round 9/10\n",
            "Round 10/10\n",
            "Global Model Accuracy: 95.40%\n"
          ]
        }
      ]
    }
  ]
}